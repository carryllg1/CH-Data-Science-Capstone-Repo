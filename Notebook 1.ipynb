{
    "cells": [
        {
            "cell_type": "markdown",
            "metadata": {
                "collapsed": true
            },
            "source": "# My Jupyter Notebook on IBM Watson Studio"
        },
        {
            "cell_type": "markdown",
            "metadata": {},
            "source": "**Carryll Hsieh**"
        },
        {
            "cell_type": "markdown",
            "metadata": {},
            "source": " *I'm interested in data science because it helps me find insights*\n   "
        },
        {
            "cell_type": "markdown",
            "metadata": {},
            "source": "### My code in cell 5 will calculate 1+1 and should display 2"
        },
        {
            "cell_type": "code",
            "execution_count": 3,
            "metadata": {},
            "outputs": [
                {
                    "data": {
                        "text/plain": "2"
                    },
                    "execution_count": 3,
                    "metadata": {},
                    "output_type": "execute_result"
                }
            ],
            "source": "1+1"
        },
        {
            "cell_type": "markdown",
            "metadata": {},
            "source": "Horizontal Rule\n---\nusing hypens\n\n***\nusing asterisks\n____\nusing underscores\n\nThe following is a table with different fonts, including **bold**, *Italic*, 'highlight', ~~strikethrough~~, and _underscore_.\n\n|table         |Column2          |Column3       |\n|---------------|:---------------:|-------------:|\n|row 1          |centered         |right-aligned |\n|row 2          |*Italic*         |'highlight'   |\n|**bold**       |~~strikethrough~~|_underscore_  |\n\n[google search engine](http://www.google.com)\n\n>testing blockquotes...this is fun!!\n"
        },
        {
            "cell_type": "code",
            "execution_count": null,
            "metadata": {},
            "outputs": [],
            "source": ""
        }
    ],
    "metadata": {
        "kernelspec": {
            "display_name": "Python 3.7",
            "language": "python",
            "name": "python3"
        },
        "language_info": {
            "codemirror_mode": {
                "name": "ipython",
                "version": 3
            },
            "file_extension": ".py",
            "mimetype": "text/x-python",
            "name": "python",
            "nbconvert_exporter": "python",
            "pygments_lexer": "ipython3",
            "version": "3.7.10"
        }
    },
    "nbformat": 4,
    "nbformat_minor": 1
}